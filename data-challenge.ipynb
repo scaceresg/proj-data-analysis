{
 "cells": [
  {
   "cell_type": "code",
   "execution_count": 22,
   "metadata": {},
   "outputs": [],
   "source": [
    "n = 5\n",
    "ratings = [[987654171, 3], [987654478, 3], [987654092, 4], [987654421, 3], [987654001, 4]]"
   ]
  },
  {
   "cell_type": "code",
   "execution_count": 23,
   "metadata": {},
   "outputs": [],
   "source": [
    "ids_avg_rts = {}\n",
    "\n",
    "for id, _ in ratings:\n",
    "    ids_avg_rts[id] = {'sum_rt': 0, 'count': 0}\n",
    "\n",
    "for id, rt in ratings:\n",
    "    ids_avg_rts[id]['sum_rt'] += rt\n",
    "    ids_avg_rts[id]['count'] += 1"
   ]
  },
  {
   "cell_type": "code",
   "execution_count": 24,
   "metadata": {},
   "outputs": [
    {
     "data": {
      "text/plain": [
       "{987654171: 3.0,\n",
       " 987654478: 3.0,\n",
       " 987654092: 4.0,\n",
       " 987654421: 3.0,\n",
       " 987654001: 4.0}"
      ]
     },
     "execution_count": 24,
     "metadata": {},
     "output_type": "execute_result"
    }
   ],
   "source": [
    "for id in ids_avg_rts.keys():\n",
    "    avg_rt = ids_avg_rts[id]['sum_rt']/ids_avg_rts[id]['count']\n",
    "\n",
    "    ids_avg_rts[id] = avg_rt\n",
    "\n",
    "ids_avg_rts"
   ]
  },
  {
   "cell_type": "code",
   "execution_count": 28,
   "metadata": {},
   "outputs": [
    {
     "data": {
      "text/plain": [
       "[987654092, 987654001]"
      ]
     },
     "execution_count": 28,
     "metadata": {},
     "output_type": "execute_result"
    }
   ],
   "source": [
    "max_avg_rt = max(ids_avg_rts.values())\n",
    "\n",
    "max_ids = [id for id in ids_avg_rts if ids_avg_rts[id]==max_avg_rt]\n",
    "max_ids"
   ]
  },
  {
   "cell_type": "code",
   "execution_count": 29,
   "metadata": {},
   "outputs": [
    {
     "data": {
      "text/plain": [
       "987654001"
      ]
     },
     "execution_count": 29,
     "metadata": {},
     "output_type": "execute_result"
    }
   ],
   "source": [
    "min(max_ids)"
   ]
  },
  {
   "cell_type": "code",
   "execution_count": null,
   "metadata": {},
   "outputs": [],
   "source": [
    "def solution (N, ratings):\n",
    "    # Write your code here\n",
    "    ids_avg_rts = {}\n",
    "\n",
    "    for id, _ in ratings:\n",
    "        ids_avg_rts[id] = {'sum_rt': 0, 'count': 0}\n",
    "\n",
    "    for id, rt in ratings:\n",
    "        ids_avg_rts[id]['sum_rt'] += rt\n",
    "        ids_avg_rts[id]['count'] += 1\n",
    "    \n",
    "    for id in ids_avg_rts.keys():\n",
    "        avg_rt = ids_avg_rts[id]['sum_rt']/ids_avg_rts[id]['count']\n",
    "        ids_avg_rts[id] = avg_rt\n",
    "\n",
    "    max_avg_rt = max(ids_avg_rts.values())\n",
    "\n",
    "    max_rt_ids = [id for id in ids_avg_rts if ids_avg_rts[id] == max_avg_rt]\n",
    "\n",
    "    return min(max_rt_ids)"
   ]
  },
  {
   "cell_type": "code",
   "execution_count": 30,
   "metadata": {},
   "outputs": [
    {
     "ename": "TypeError",
     "evalue": "descriptor 'timestamp' for 'datetime.datetime' objects doesn't apply to a 'str' object",
     "output_type": "error",
     "traceback": [
      "\u001b[1;31m---------------------------------------------------------------------------\u001b[0m",
      "\u001b[1;31mTypeError\u001b[0m                                 Traceback (most recent call last)",
      "Cell \u001b[1;32mIn[30], line 3\u001b[0m\n\u001b[0;32m      1\u001b[0m \u001b[38;5;28;01mfrom\u001b[39;00m \u001b[38;5;21;01mdatetime\u001b[39;00m \u001b[38;5;28;01mimport\u001b[39;00m datetime\n\u001b[1;32m----> 3\u001b[0m date \u001b[38;5;241m=\u001b[39m \u001b[43mdatetime\u001b[49m\u001b[38;5;241;43m.\u001b[39;49m\u001b[43mtimestamp\u001b[49m\u001b[43m(\u001b[49m\u001b[38;5;124;43m'\u001b[39;49m\u001b[38;5;124;43m01/04/2024\u001b[39;49m\u001b[38;5;124;43m'\u001b[39;49m\u001b[43m)\u001b[49m\n\u001b[0;32m      5\u001b[0m date\n",
      "\u001b[1;31mTypeError\u001b[0m: descriptor 'timestamp' for 'datetime.datetime' objects doesn't apply to a 'str' object"
     ]
    }
   ],
   "source": [
    "from datetime import datetime\n",
    "\n",
    "date = datetime.timestamp('01/04/2024')\n",
    "\n",
    "date"
   ]
  },
  {
   "cell_type": "code",
   "execution_count": 33,
   "metadata": {},
   "outputs": [
    {
     "data": {
      "text/plain": [
       "1.0172222222222222"
      ]
     },
     "execution_count": 33,
     "metadata": {},
     "output_type": "execute_result"
    }
   ],
   "source": [
    "3662/3600"
   ]
  },
  {
   "cell_type": "code",
   "execution_count": 43,
   "metadata": {},
   "outputs": [],
   "source": [
    "pin = '11'\n",
    "\n",
    "possible_digits = {'0': ['0', '8'],\n",
    "                    '1': ['1', '2', '4'],\n",
    "                    '2': ['1', '2', '3', '5'],\n",
    "                    '3': ['2', '3', '6'],\n",
    "                    '4': ['1', '4', '5', '7'],\n",
    "                    '5': ['2', '3', '5', '6', '8'],\n",
    "                    '6': ['3', '5', '6', '9'],\n",
    "                    '7': ['4', '7', '8'],\n",
    "                    '8': ['0', '5', '7', '8', '9'],\n",
    "                    '9': ['6', '8', '9']}"
   ]
  },
  {
   "cell_type": "code",
   "execution_count": 44,
   "metadata": {},
   "outputs": [
    {
     "data": {
      "text/plain": [
       "['0', '8']"
      ]
     },
     "execution_count": 44,
     "metadata": {},
     "output_type": "execute_result"
    }
   ],
   "source": [
    "possible_digits['0']"
   ]
  },
  {
   "cell_type": "code",
   "execution_count": 55,
   "metadata": {},
   "outputs": [],
   "source": [
    "pin_list = [*pin]"
   ]
  },
  {
   "cell_type": "code",
   "execution_count": 56,
   "metadata": {},
   "outputs": [
    {
     "data": {
      "text/plain": [
       "['1', '1']"
      ]
     },
     "execution_count": 56,
     "metadata": {},
     "output_type": "execute_result"
    }
   ],
   "source": [
    "pin_list"
   ]
  },
  {
   "cell_type": "code",
   "execution_count": 41,
   "metadata": {},
   "outputs": [
    {
     "data": {
      "text/plain": [
       "'11'"
      ]
     },
     "execution_count": 41,
     "metadata": {},
     "output_type": "execute_result"
    }
   ],
   "source": [
    "''.join(pin_list)"
   ]
  },
  {
   "cell_type": "code",
   "execution_count": 65,
   "metadata": {},
   "outputs": [],
   "source": [
    "from copy import deepcopy\n",
    "\n",
    "combinations = [pin]\n",
    "\n",
    "for ind, d in enumerate(pin_list):\n",
    "\n",
    "    comb = deepcopy(pin_list)\n",
    "    \n",
    "    for p in possible_digits[d]:\n",
    "\n",
    "        comb[ind] = p\n",
    "\n",
    "        combinations.append(''.join(comb))"
   ]
  },
  {
   "cell_type": "code",
   "execution_count": 66,
   "metadata": {},
   "outputs": [
    {
     "data": {
      "text/plain": [
       "['1', '2', '4']"
      ]
     },
     "execution_count": 66,
     "metadata": {},
     "output_type": "execute_result"
    }
   ],
   "source": [
    "possible_digits['1']"
   ]
  },
  {
   "cell_type": "code",
   "execution_count": 61,
   "metadata": {},
   "outputs": [
    {
     "data": {
      "text/plain": [
       "['11', '11', '21', '41', '11', '12', '14']"
      ]
     },
     "execution_count": 61,
     "metadata": {},
     "output_type": "execute_result"
    }
   ],
   "source": [
    "combinations"
   ]
  },
  {
   "cell_type": "code",
   "execution_count": 63,
   "metadata": {},
   "outputs": [
    {
     "data": {
      "text/plain": [
       "{'11', '12', '14', '21', '41'}"
      ]
     },
     "execution_count": 63,
     "metadata": {},
     "output_type": "execute_result"
    }
   ],
   "source": [
    "set_comb = set(combinations)\n",
    "set_comb"
   ]
  },
  {
   "cell_type": "code",
   "execution_count": 48,
   "metadata": {},
   "outputs": [],
   "source": [
    "s = set(['24', '11', '12', '11'])"
   ]
  },
  {
   "cell_type": "code",
   "execution_count": 49,
   "metadata": {},
   "outputs": [
    {
     "data": {
      "text/plain": [
       "['11', '12', '24']"
      ]
     },
     "execution_count": 49,
     "metadata": {},
     "output_type": "execute_result"
    }
   ],
   "source": [
    "list(s)"
   ]
  },
  {
   "cell_type": "code",
   "execution_count": 51,
   "metadata": {},
   "outputs": [
    {
     "data": {
      "text/plain": [
       "['11']"
      ]
     },
     "execution_count": 51,
     "metadata": {},
     "output_type": "execute_result"
    }
   ],
   "source": [
    "combinations"
   ]
  },
  {
   "cell_type": "code",
   "execution_count": 57,
   "metadata": {},
   "outputs": [],
   "source": [
    "from copy import deepcopy\n",
    "\n",
    "comb = deepcopy(pin_list)\n",
    "comb[0] = '5'"
   ]
  },
  {
   "cell_type": "code",
   "execution_count": 58,
   "metadata": {},
   "outputs": [
    {
     "data": {
      "text/plain": [
       "['1', '1']"
      ]
     },
     "execution_count": 58,
     "metadata": {},
     "output_type": "execute_result"
    }
   ],
   "source": [
    "pin_list"
   ]
  },
  {
   "cell_type": "code",
   "execution_count": 59,
   "metadata": {},
   "outputs": [
    {
     "data": {
      "text/plain": [
       "['5', '1']"
      ]
     },
     "execution_count": 59,
     "metadata": {},
     "output_type": "execute_result"
    }
   ],
   "source": [
    "comb"
   ]
  },
  {
   "cell_type": "code",
   "execution_count": null,
   "metadata": {},
   "outputs": [],
   "source": []
  }
 ],
 "metadata": {
  "kernelspec": {
   "display_name": "Python 3",
   "language": "python",
   "name": "python3"
  },
  "language_info": {
   "codemirror_mode": {
    "name": "ipython",
    "version": 3
   },
   "file_extension": ".py",
   "mimetype": "text/x-python",
   "name": "python",
   "nbconvert_exporter": "python",
   "pygments_lexer": "ipython3",
   "version": "3.10.0"
  }
 },
 "nbformat": 4,
 "nbformat_minor": 2
}
